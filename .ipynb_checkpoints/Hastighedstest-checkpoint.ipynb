{
 "cells": [
  {
   "cell_type": "markdown",
   "metadata": {},
   "source": [
    "# Test af din internetforbindelses hastighed\n",
    "Command line interface for testing internet bandwidth using speedtest.net\n",
    "\n",
    "## Links\n",
    "- https://pypi.org/project/speedtest-cli/\n",
    "- https://www.speedtest.net\n",
    "- https://kundeservice.yousee.dk/bredbaand/loes-problem/hastighedstest"
   ]
  },
  {
   "cell_type": "code",
   "execution_count": null,
   "metadata": {},
   "outputs": [],
   "source": [
    "# Install\n",
    "!pip install speedtest-cli"
   ]
  },
  {
   "cell_type": "code",
   "execution_count": 3,
   "metadata": {},
   "outputs": [],
   "source": [
    "# Import\n",
    "import speedtest\n",
    "speed = speedtest.Speedtest()"
   ]
  },
  {
   "cell_type": "code",
   "execution_count": 4,
   "metadata": {},
   "outputs": [
    {
     "name": "stdout",
     "output_type": "stream",
     "text": [
      "\n",
      "\n"
     ]
    },
    {
     "name": "stdin",
     "output_type": "stream",
     "text": [
      "Check din Internet hastighed\n",
      "    1) Download hastighed\n",
      "    2) Upload hastighed\n",
      "    3) Luk\n",
      "Vælg (1/2/3): 1\n"
     ]
    },
    {
     "name": "stdout",
     "output_type": "stream",
     "text": [
      "\n",
      "\n",
      "Tester...\n",
      "Download hastighed: 4.10 Mb/s\n",
      "\n",
      "\n"
     ]
    },
    {
     "name": "stdin",
     "output_type": "stream",
     "text": [
      "Check din Internet hastighed\n",
      "    1) Download hastighed\n",
      "    2) Upload hastighed\n",
      "    3) Luk\n",
      "Vælg (1/2/3): 2\n"
     ]
    },
    {
     "name": "stdout",
     "output_type": "stream",
     "text": [
      "\n",
      "\n",
      "Tester...\n",
      "Upload hastighed: 4.10 Mb/s\n",
      "\n",
      "\n"
     ]
    },
    {
     "name": "stdin",
     "output_type": "stream",
     "text": [
      "Check din Internet hastighed\n",
      "    1) Download hastighed\n",
      "    2) Upload hastighed\n",
      "    3) Luk\n",
      "Vælg (1/2/3): 3\n"
     ]
    },
    {
     "name": "stdout",
     "output_type": "stream",
     "text": [
      "\n",
      "\n",
      "Luk programmet\n"
     ]
    }
   ],
   "source": [
    "# Test af hastighed med brugere valg\n",
    "def main():\n",
    "    while True:\n",
    "        print('\\n')\n",
    "        choice=int(input(\"\"\"Check din Internet hastighed\n",
    "    1) Download hastighed\n",
    "    2) Upload hastighed\n",
    "    3) Luk\n",
    "Vælg (1/2/3):\"\"\"))\n",
    "        print('\\n')\n",
    "        if choice==1:\n",
    "            print('Tester...')\n",
    "            print(f\"Download hastighed: {'{:.2f}'.format(speed.download()/1024/1024)} Mb/s\")\n",
    "        elif choice==2:\n",
    "            print('Tester...')\n",
    "            print(f\"Upload hastighed: {'{:.2f}'.format(speed.upload()/1024/1024)} Mb/s\")\n",
    "        elif choice==3:\n",
    "            print('Luk programmet')\n",
    "            break\n",
    "        else:\n",
    "            print(\"Vælg hvad du vil - 1, 2 eller 3\")\n",
    "\n",
    "if __name__ == '__main__':\n",
    "    main()"
   ]
  },
  {
   "cell_type": "code",
   "execution_count": null,
   "metadata": {},
   "outputs": [],
   "source": []
  }
 ],
 "metadata": {
  "kernelspec": {
   "display_name": "Python 3",
   "language": "python",
   "name": "python3"
  },
  "language_info": {
   "codemirror_mode": {
    "name": "ipython",
    "version": 3
   },
   "file_extension": ".py",
   "mimetype": "text/x-python",
   "name": "python",
   "nbconvert_exporter": "python",
   "pygments_lexer": "ipython3",
   "version": "3.9.1"
  }
 },
 "nbformat": 4,
 "nbformat_minor": 4
}
