{
 "cells": [
  {
   "cell_type": "markdown",
   "metadata": {},
   "source": [
    "# Opret Word dokumenter med Python\n",
    "### Brug Python til at automatisere oprettelsen af dine Word dokumenter\n",
    "\n",
    "\n",
    "\n"
   ]
  },
  {
   "cell_type": "markdown",
   "metadata": {},
   "source": [
    "## docx\n",
    "python-docx er et Python-bibliotek til oprettelse og opdatering af Microsoft Word (.docx) filer.\n",
    "\n",
    "https://python-docx.readthedocs.io/en/latest/"
   ]
  },
  {
   "cell_type": "code",
   "execution_count": 7,
   "metadata": {},
   "outputs": [
    {
     "name": "stdout",
     "output_type": "stream",
     "text": [
      "Requirement already satisfied: python-docx in c:\\python39\\lib\\site-packages (0.8.10)\n",
      "Requirement already satisfied: lxml>=2.3.2 in c:\\python39\\lib\\site-packages (from python-docx) (4.6.2)\n"
     ]
    }
   ],
   "source": [
    "# Install\n",
    "#!pip install docx\n",
    "#!pip install docxtpl\n",
    "\n",
    "!pip install python-docx"
   ]
  },
  {
   "cell_type": "code",
   "execution_count": 8,
   "metadata": {},
   "outputs": [],
   "source": [
    "# Import\n",
    "from docx.shared import Cm\n",
    "from docxtpl import DocxTemplate, InlineImage\n",
    "from docx.shared import Cm, Inches, Mm, Emu\n",
    "import random\n",
    "import datetime\n",
    "import matplotlib.pyplot as plt"
   ]
  },
  {
   "cell_type": "markdown",
   "metadata": {},
   "source": [
    "# Opret template"
   ]
  },
  {
   "cell_type": "code",
   "execution_count": 9,
   "metadata": {},
   "outputs": [
    {
     "data": {
      "image/png": "[encoded data removed]",
      "text/plain": [
       "<Figure size 432x288 with 1 Axes>"
      ]
     },
     "metadata": {
      "needs_background": "light"
     },
     "output_type": "display_data"
    }
   ],
   "source": [
    "#Import template document\n",
    "template = DocxTemplate('report_template.dotx')\n",
    "\n",
    "#Generate list of random values\n",
    "table_contents = []\n",
    "x = []\n",
    "y = []\n",
    "\n",
    "for i in range(0,12):\n",
    "    number = round(random.random(),3)\n",
    "    \n",
    "    table_contents.append({\n",
    "        'Index': i,\n",
    "        'Value': number\n",
    "        })\n",
    "    \n",
    "    x.append(i)\n",
    "    y.append(number)\n",
    "\n",
    "#Plot random values and save figure\n",
    "fig = plt.figure()\n",
    "plt.plot(x, y)\n",
    "fig.savefig('image.png', dpi=fig.dpi)\n",
    "\n",
    "#Import saved figure\n",
    "image = InlineImage(template,'image.png',Cm(10))"
   ]
  },
  {
   "cell_type": "code",
   "execution_count": 10,
   "metadata": {},
   "outputs": [],
   "source": [
    "#Declare template variables\n",
    "context = {\n",
    "    'title': 'Automated Report',\n",
    "    'day': datetime.datetime.now().strftime('%d'),\n",
    "    'month': datetime.datetime.now().strftime('%b'),\n",
    "    'year': datetime.datetime.now().strftime('%Y'),\n",
    "    'table_contents': table_contents,\n",
    "    'image': image\n",
    "    }\n",
    "\n",
    "#Render automated report\n",
    "template.render(context)\n",
    "template.save('generated_report.docx')"
   ]
  },
  {
   "cell_type": "code",
   "execution_count": null,
   "metadata": {},
   "outputs": [],
   "source": []
  },
  {
   "cell_type": "code",
   "execution_count": null,
   "metadata": {},
   "outputs": [],
   "source": []
  }
 ],
 "metadata": {
  "kernelspec": {
   "display_name": "Python 3",
   "language": "python",
   "name": "python3"
  },
  "language_info": {
   "codemirror_mode": {
    "name": "ipython",
    "version": 3
   },
   "file_extension": ".py",
   "mimetype": "text/x-python",
   "name": "python",
   "nbconvert_exporter": "python",
   "pygments_lexer": "ipython3",
   "version": "3.9.1"
  }
 },
 "nbformat": 4,
 "nbformat_minor": 4
}
