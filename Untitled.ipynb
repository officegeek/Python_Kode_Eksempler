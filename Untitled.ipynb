{
 "cells": [
  {
   "cell_type": "code",
   "execution_count": 2,
   "metadata": {},
   "outputs": [],
   "source": [
    "import concurrent.futures\n",
    "import time"
   ]
  },
  {
   "cell_type": "code",
   "execution_count": 9,
   "metadata": {},
   "outputs": [],
   "source": [
    "# Your \n",
    "class Account:\n",
    "    def __init__(self):\n",
    "        self.balance = 100 # shared data\n",
    "    def update(self, transaction, amount):\n",
    "        print(f'{transaction} thread updating...')\n",
    "        local_copy = self.balance\n",
    "        local_copy += amount\n",
    "        # time.sleep(1)\n",
    "        self.balance = local_copy\n",
    "        print(f'{transaction} thread finishing...')"
   ]
  },
  {
   "cell_type": "code",
   "execution_count": 10,
   "metadata": {},
   "outputs": [
    {
     "name": "stdout",
     "output_type": "stream",
     "text": [
      "starting with balance of 100\n",
      "deposit thread updating...\n",
      "deposit thread finishing...\n",
      "withdrawal thread updating...\n",
      "withdrawal thread finishing...\n",
      "ending balance of 0\n"
     ]
    }
   ],
   "source": [
    "if __name__ == '__main__':\n",
    "    account = Account() # Create the Account\n",
    "    print(f'starting with balance of {account.balance}')\n",
    "    with concurrent.futures.ThreadPoolExecutor(max_workers=2) as ex:\n",
    "        for transaction, amount in [('deposit', 50), ('withdrawal', -150)]:\n",
    "            ex.submit(account.update, transaction, amount)\n",
    "    print(f'ending balance of {account.balance}')"
   ]
  },
  {
   "cell_type": "code",
   "execution_count": null,
   "metadata": {},
   "outputs": [],
   "source": []
  }
 ],
 "metadata": {
  "kernelspec": {
   "display_name": "Python 3",
   "language": "python",
   "name": "python3"
  },
  "language_info": {
   "codemirror_mode": {
    "name": "ipython",
    "version": 3
   },
   "file_extension": ".py",
   "mimetype": "text/x-python",
   "name": "python",
   "nbconvert_exporter": "python",
   "pygments_lexer": "ipython3",
   "version": "3.9.1"
  }
 },
 "nbformat": 4,
 "nbformat_minor": 4
}
